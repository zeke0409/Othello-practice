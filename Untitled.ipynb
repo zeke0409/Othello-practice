{
 "cells": [
  {
   "cell_type": "code",
   "execution_count": 1,
   "metadata": {
    "ExecuteTime": {
     "start_time": "2020-08-31T08:05:26.848Z"
    },
    "tags": []
   },
   "outputs": [
    {
     "output_type": "stream",
     "name": "stdout",
     "text": "3.8.3 (default, Jul  2 2020, 17:30:36) [MSC v.1916 64 bit (AMD64)]\n"
    }
   ],
   "source": [
    "import sys\n",
    "print(sys.version)\n",
    "import random\n",
    "import numpy as np\n",
    "def random_state(num):\n",
    "    min=0\n",
    "    Max=10000\n",
    "    return np.random.randint(min, Max, (num, 2))"
   ]
  },
  {
   "cell_type": "code",
   "execution_count": 2,
   "metadata": {
    "ExecuteTime": {
     "end_time": "2020-08-31T08:00:41.657320Z",
     "start_time": "2020-08-31T08:00:41.652334Z"
    }
   },
   "outputs": [
    {
     "name": "stdout",
     "output_type": "stream",
     "text": [
      "hello\n"
     ]
    }
   ],
   "source": [
    "print(\"hello\")"
   ]
  },
  {
   "cell_type": "code",
   "execution_count": null,
   "metadata": {
    "ExecuteTime": {
     "end_time": "2020-08-31T08:00:43.584353Z",
     "start_time": "2020-08-31T08:00:43.547Z"
    }
   },
   "outputs": [],
   "source": [
    "import matplotlib.pyplot as plt\n",
    "import numpy as np\n",
    "import matplotlib.animation as animation\n",
    "\n",
    "# プロット領域(Figure, Axes)の初期化\n",
    "fig = plt.figure()\n",
    "ax1 = fig.add_subplot(221)\n",
    "ax2 = fig.add_subplot(222)\n",
    "ax3 = fig.add_subplot(223)\n",
    "ax4 = fig.add_subplot(224)\n",
    "ax1.axis([-1.2, 1.2, -1.2, 1.2])\n",
    "ax2.axis([0, 100, -2, 2]) \n",
    "\n",
    "# 棒グラフの作成\n",
    "s = 1\n",
    "ims = []\n",
    "\n",
    "for i in range(10):\n",
    "        rand = np.random.randn(100)     # 100個の乱数を生成\n",
    "        im = ax1.plot(rand)             # 乱数をグラフにする\n",
    "        ims.append(im)                  # グラフを配列 ims に追加\n",
    "        im = ax2.plot(rand)             # 乱数をグラフにする\n",
    "        ims.append(im)\n",
    "        im = ax3.plot(rand)             # 乱数をグラフにする\n",
    "        ims.append(im)\n",
    "        im = ax4.plot(rand)             # 乱数をグラフにする\n",
    "        ims.append(im)\n",
    "\n",
    "ani = animation.ArtistAnimation(fig, ims, interval=100)\n",
    "ani.save('anim.gif', writer=\"imagemagick\")\n",
    "#ani.save('anim.mp4', writer=\"ffmpeg\")\n",
    "plt.show()"
   ]
  }
 ],
 "metadata": {
  "kernelspec": {
   "display_name": "py38",
   "language": "python",
   "name": "py38"
  },
  "language_info": {
   "codemirror_mode": {
    "name": "ipython",
    "version": 3
   },
   "file_extension": ".py",
   "mimetype": "text/x-python",
   "name": "python",
   "nbconvert_exporter": "python",
   "pygments_lexer": "ipython3",
   "version": "3.8.3-final"
  },
  "varInspector": {
   "cols": {
    "lenName": 16,
    "lenType": 16,
    "lenVar": 40
   },
   "kernels_config": {
    "python": {
     "delete_cmd_postfix": "",
     "delete_cmd_prefix": "del ",
     "library": "var_list.py",
     "varRefreshCmd": "print(var_dic_list())"
    },
    "r": {
     "delete_cmd_postfix": ") ",
     "delete_cmd_prefix": "rm(",
     "library": "var_list.r",
     "varRefreshCmd": "cat(var_dic_list()) "
    }
   },
   "types_to_exclude": [
    "module",
    "function",
    "builtin_function_or_method",
    "instance",
    "_Feature"
   ],
   "window_display": false
  }
 },
 "nbformat": 4,
 "nbformat_minor": 2
}