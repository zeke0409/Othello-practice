{
 "cells": [
  {
   "cell_type": "code",
   "execution_count": null,
   "metadata": {
    "ExecuteTime": {
     "start_time": "2020-08-23T16:57:09.768Z"
    },
    "tags": []
   },
   "outputs": [],
   "source": [
    "import sys\n",
    "print(sys.version)\n",
    "# TF2.xの読み込み\n",
    "import tensorflow as tf\n",
    "# バージョンの確認\n",
    "print('TensorFlow version: {}'.format(tf.__version__))"
   ]
  },
  {
   "cell_type": "code",
   "execution_count": 42,
   "metadata": {
    "tags": []
   },
   "outputs": [
    {
     "name": "stdout",
     "output_type": "stream",
     "text": [
      "(60000, 28, 28) (10000, 28, 28) (60000,) (10000,)\n"
     ]
    }
   ],
   "source": [
    "# MNISTデータセットを使用\n",
    "mnist = tf.keras.datasets.mnist\n",
    "(x_train, t_train), (x_test, t_test) = mnist.load_data()\n",
    "# 0~1へ正規化する\n",
    "x_train, x_test = x_train / 255., x_test / 255.\n",
    "print(x_train.shape, x_test.shape, t_train.shape, t_test.shape)"
   ]
  },
  {
   "cell_type": "code",
   "execution_count": 43,
   "metadata": {
    "tags": []
   },
   "outputs": [
    {
     "name": "stdout",
     "output_type": "stream",
     "text": [
      "Train on 60000 samples\n",
      "Epoch 1/5\n",
      "60000/60000 [==============================] - 3s 54us/sample - loss: 0.2559 - accuracy: 0.9266\n",
      "Epoch 2/5\n",
      "60000/60000 [==============================] - 3s 48us/sample - loss: 0.1111 - accuracy: 0.9675\n",
      "Epoch 3/5\n",
      "60000/60000 [==============================] - 3s 49us/sample - loss: 0.0769 - accuracy: 0.9765\n",
      "Epoch 4/5\n",
      "60000/60000 [==============================] - 3s 53us/sample - loss: 0.0573 - accuracy: 0.9829\n",
      "Epoch 5/5\n",
      "60000/60000 [==============================] - 3s 52us/sample - loss: 0.0445 - accuracy: 0.9858\n",
      "10000/10000 [==============================] - 0s 44us/sample - loss: 0.0766 - accuracy: 0.9754\n",
      "WARNING:tensorflow:From C:\\Users\\kazuk\\anaconda3\\envs\\tensorflow36_conda\\lib\\site-packages\\tensorflow_core\\python\\ops\\resource_variable_ops.py:1786: calling BaseResourceVariable.__init__ (from tensorflow.python.ops.resource_variable_ops) with constraint is deprecated and will be removed in a future version.\n",
      "Instructions for updating:\n",
      "If using Keras pass *_constraint arguments to layers.\n",
      "INFO:tensorflow:Assets written to: Sequential_model\\assets\n",
      "Failed to import pydot. You must install pydot and graphviz for `pydotprint` to work.\n"
     ]
    }
   ],
   "source": [
    "# 1.モデルの構築\n",
    "model = tf.keras.models.Sequential([\n",
    "  tf.keras.layers.Flatten(input_shape=(28, 28), name='inputs'),\n",
    "  tf.keras.layers.Dense(128, activation='relu', name='relu'),\n",
    "  tf.keras.layers.Dense(10, activation='softmax', name='softmax')\n",
    "], name='Sequential')\n",
    "# 2.モデルのコンパイル\n",
    "model.compile(optimizer='adam',\n",
    "              loss='sparse_categorical_crossentropy',\n",
    "              metrics=['accuracy'])\n",
    "# 3.モデルの学習\n",
    "history = model.fit(x_train, t_train, epochs=5, batch_size=32)\n",
    "# 4.モデルの評価\n",
    "model.evaluate(x_test,  t_test, verbose=1)\n",
    "# 5.モデルの保存(シリアル化)\n",
    "model.save('Sequential_model')\n",
    "# モデルの読み込み\n",
    "model_load = tf.keras.models.load_model('Sequential_model')\n",
    "# グラフの可視化\n",
    "tf.keras.utils.plot_model(model, to_file='Sequetial.png', show_shapes=True)"
   ]
  },
  {
   "cell_type": "code",
   "execution_count": 48,
   "metadata": {
    "tags": []
   },
   "outputs": [
    {
     "name": "stdout",
     "output_type": "stream",
     "text": [
      "Model: \"Sequential\"\n",
      "_________________________________________________________________\n",
      "Layer (type)                 Output Shape              Param #   \n",
      "=================================================================\n",
      "inputs (Flatten)             (None, 784)               0         \n",
      "_________________________________________________________________\n",
      "relu (Dense)                 (None, 128)               100480    \n",
      "_________________________________________________________________\n",
      "softmax (Dense)              (None, 10)                1290      \n",
      "=================================================================\n",
      "Total params: 101,770\n",
      "Trainable params: 101,770\n",
      "Non-trainable params: 0\n",
      "_________________________________________________________________\n",
      "None\n",
      "Failed to import pydot. You must install pydot and graphviz for `pydotprint` to work.\n"
     ]
    }
   ],
   "source": [
    "print(model.summary())\n",
    "from tensorflow.keras.utils import plot_model\n",
    "plot_model(\n",
    "    model,\n",
    "    show_shapes=True,\n",
    ")"
   ]
  }
 ],
 "metadata": {
  "kernelspec": {
   "display_name": "tensorflow36_conda",
   "language": "python",
   "name": "tensorflow36_conda"
  }
 },
 "nbformat": 4,
 "nbformat_minor": 2
}
