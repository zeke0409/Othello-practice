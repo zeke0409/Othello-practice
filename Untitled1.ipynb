{
 "cells": [
  {
   "cell_type": "code",
   "execution_count": null,
   "metadata": {
    "ExecuteTime": {
     "start_time": "2020-08-31T07:05:19.085Z"
    }
   },
   "outputs": [],
   "source": [
    "import random\n",
    "def random_state(num):\n",
    "    min=0\n",
    "    Max=100000\n",
    "    return np.random.randint(min,Max,(num,2))\n",
    "display(random_state(10))"
   ]
  }
 ],
 "metadata": {
  "kernelspec": {
   "display_name": "tensorflow36_conda",
   "language": "python",
   "name": "tensorflow36_conda"
  },
  "language_info": {
   "codemirror_mode": {
    "name": "ipython",
    "version": 3
   },
   "file_extension": ".py",
   "mimetype": "text/x-python",
   "name": "python",
   "nbconvert_exporter": "python",
   "pygments_lexer": "ipython3",
   "version": "3.6.10-final"
  }
 },
 "nbformat": 4,
 "nbformat_minor": 2
}
